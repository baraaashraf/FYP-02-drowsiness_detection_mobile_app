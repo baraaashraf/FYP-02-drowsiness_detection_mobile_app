{
 "cells": [
  {
   "cell_type": "code",
   "execution_count": 1,
   "id": "1e282720",
   "metadata": {},
   "outputs": [],
   "source": [
    "import os\n",
    "os.environ['TF_CPP_MIN_LOG_LEVEL'] = '2'"
   ]
  },
  {
   "cell_type": "code",
   "execution_count": 2,
   "id": "aa8fa1ab",
   "metadata": {},
   "outputs": [],
   "source": [
    "import sys\n",
    "sys.path.append('/home/baraa/.local/lib/python3.10/site-packages')"
   ]
  },
  {
   "cell_type": "code",
   "execution_count": 3,
   "id": "8d65f331",
   "metadata": {},
   "outputs": [
    {
     "name": "stdout",
     "output_type": "stream",
     "text": [
      "pygame 2.1.2 (SDL 2.0.16, Python 3.10.9)\n",
      "Hello from the pygame community. https://www.pygame.org/contribute.html\n"
     ]
    }
   ],
   "source": [
    "import cv2\n",
    "import tensorflow as tf\n",
    "from tensorflow.keras.models import load_model\n",
    "import numpy as np\n",
    "from pygame import mixer"
   ]
  },
  {
   "cell_type": "code",
   "execution_count": 4,
   "id": "a3b904aa",
   "metadata": {},
   "outputs": [],
   "source": [
    "face_cascade = cv2.CascadeClassifier(cv2.data.haarcascades + 'haarcascade_frontalface_default.xml')\n",
    "eye_cascade = cv2.CascadeClassifier(cv2.data.haarcascades + 'haarcascade_eye.xml')\n",
    "model =load_model('/home/baraa/Documents/FYP/Models')"
   ]
  },
  {
   "cell_type": "code",
   "execution_count": 6,
   "id": "57ac2aeb",
   "metadata": {},
   "outputs": [
    {
     "name": "stdout",
     "output_type": "stream",
     "text": [
      "/home/baraa/Pictures/p1.jpg\n",
      "1/1 [==============================] - 0s 31ms/step\n",
      "1/1 [==============================] - 0s 31ms/step\n",
      "1/1 [==============================] - 0s 30ms/step\n",
      "1/1 [==============================] - 0s 31ms/step\n",
      "Closed\n",
      "/home/baraa/Pictures/p2.jpg\n",
      "1/1 [==============================] - 0s 30ms/step\n",
      "1/1 [==============================] - 0s 33ms/step\n",
      "1/1 [==============================] - 0s 32ms/step\n",
      "1/1 [==============================] - 0s 31ms/step\n",
      "1/1 [==============================] - 0s 31ms/step\n",
      "1/1 [==============================] - 0s 32ms/step\n",
      "Closed\n",
      "/home/baraa/Pictures/p3.jpg\n",
      "1/1 [==============================] - 0s 30ms/step\n",
      "1/1 [==============================] - 0s 34ms/step\n",
      "1/1 [==============================] - 0s 31ms/step\n",
      "1/1 [==============================] - 0s 31ms/step\n",
      "1/1 [==============================] - 0s 33ms/step\n",
      "Closed\n",
      "/home/baraa/Pictures/p4.jpg\n",
      "1/1 [==============================] - 0s 30ms/step\n",
      "1/1 [==============================] - 0s 31ms/step\n",
      "1/1 [==============================] - 0s 32ms/step\n",
      "1/1 [==============================] - 0s 31ms/step\n",
      "Closed\n"
     ]
    }
   ],
   "source": [
    "\n",
    "mixer.init()\n",
    "\n",
    "def get_prediction(frame):\n",
    "    try:\n",
    "        closed = 0\n",
    "        opened = 0\n",
    "        \n",
    "        height,width = frame.shape[0:2]\n",
    "        gray = cv2.cvtColor(frame, cv2.COLOR_BGR2GRAY)\n",
    "        faces= face_cascade.detectMultiScale(gray, scaleFactor= 1.2, minNeighbors=3)\n",
    "        eyes = eye_cascade.detectMultiScale(gray, scaleFactor= 1.1, minNeighbors=1)\n",
    "\n",
    "        cv2.rectangle(frame, (0,height-50),(200,height),(0,0,0),thickness=cv2.FILLED)\n",
    "\n",
    "\n",
    "        for (ex,ey,ew,eh) in eyes:\n",
    "            # preprocessing steps\n",
    "            eye= frame[ey:ey+eh,ex:ex+ew]\n",
    "            eye= cv2.resize(eye,(80,80))\n",
    "            eye= eye/255\n",
    "            eye= eye.reshape(80,80,3)\n",
    "            eye= np.expand_dims(eye,axis=0)\n",
    "            # preprocessing is done now model prediction\n",
    "            prediction = model.predict(eye)\n",
    "\n",
    "            # if eyes are closed\n",
    "            if prediction[0][0]>prediction[0][1]:\n",
    "                closed += 1\n",
    "\n",
    "            # if eyes are open\n",
    "            elif prediction[0][1]>prediction[0][0]:\n",
    "                opened += 1\n",
    "        return opened, closed\n",
    "    \n",
    "    except:\n",
    "        return \"invalid image type\"\n",
    "\n",
    "    \n",
    "\n",
    "\n",
    "for i in range(1, 5):\n",
    "    frame = cv2.imread(f'/home/baraa/Pictures/p{i}.jpg')\n",
    "    print (f'/home/baraa/Pictures/p{i}.jpg')\n",
    "    opened, closed = get_prediction(frame)\n",
    "    if (opened > closed):\n",
    "        print (\"Open\")\n",
    "    else:\n",
    "        print (\"Closed\")\n"
   ]
  },
  {
   "cell_type": "code",
   "execution_count": null,
   "id": "40147894",
   "metadata": {},
   "outputs": [],
   "source": []
  },
  {
   "cell_type": "code",
   "execution_count": null,
   "id": "e6181ff1",
   "metadata": {},
   "outputs": [],
   "source": []
  },
  {
   "cell_type": "code",
   "execution_count": null,
   "id": "5c572283",
   "metadata": {},
   "outputs": [],
   "source": []
  }
 ],
 "metadata": {
  "kernelspec": {
   "display_name": "py_310_env",
   "language": "python",
   "name": "py_310_env"
  },
  "language_info": {
   "codemirror_mode": {
    "name": "ipython",
    "version": 3
   },
   "file_extension": ".py",
   "mimetype": "text/x-python",
   "name": "python",
   "nbconvert_exporter": "python",
   "pygments_lexer": "ipython3",
   "version": "3.10.9"
  }
 },
 "nbformat": 4,
 "nbformat_minor": 5
}
